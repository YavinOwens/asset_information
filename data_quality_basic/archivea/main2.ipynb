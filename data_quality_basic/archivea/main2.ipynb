{
 "cells": [
  {
   "cell_type": "code",
   "execution_count": 1,
   "metadata": {},
   "outputs": [],
   "source": [
    "import pandas as pd\n",
    "import logging\n",
    "import os\n",
    "\n",
    "# Example data\n",
    "data = {\n",
    "    'name': ['Alice', 'Bob', 'Charlie', 'David', 'Eve'],\n",
    "    'age': [25, 30, None, 22, 28],\n",
    "    'gender': ['F', 'M', 'M', 'M', 'F'],\n",
    "    'email': ['alice@example.com', 'bob@example.com', 'charlie@example', 'david@example.com', 'eve@example.com']\n",
    "}\n",
    "df = pd.DataFrame(data)\n",
    "\n",
    "# File details\n",
    "file_name = 'example_data.csv'\n",
    "file_path = os.path.abspath(file_name)\n",
    "\n",
    "# Initialize log reference counter\n",
    "log_ref_counter = 0\n",
    "\n"
   ]
  },
  {
   "cell_type": "code",
   "execution_count": 2,
   "metadata": {},
   "outputs": [],
   "source": [
    "# Data quality check functions\n",
    "def check_missing_values(df: pd.DataFrame) -> pd.Series:\n",
    "    \"\"\"Check for missing values in the DataFrame.\"\"\"\n",
    "    logging.debug(\"Checking for missing values.\")\n",
    "    return df.isnull().sum()\n",
    "\n",
    "def get_missing_value_indices(df: pd.DataFrame) -> dict:\n",
    "    \"\"\"Get indices of missing values for each column.\"\"\"\n",
    "    missing_value_indices = {}\n",
    "    for column in df.columns:\n",
    "        missing_indices = df[df[column].isnull()].index.tolist()\n",
    "        if missing_indices:\n",
    "            missing_value_indices[column] = missing_indices\n",
    "    return missing_value_indices\n",
    "\n",
    "def check_duplicates(df: pd.DataFrame) -> int:\n",
    "    \"\"\"Check for duplicate rows in the DataFrame.\"\"\"\n",
    "    logging.debug(\"Checking for duplicate rows.\")\n",
    "    return df.duplicated().sum()\n",
    "\n",
    "def get_duplicate_indices(df: pd.DataFrame) -> list:\n",
    "    \"\"\"Get indices of duplicate rows.\"\"\"\n",
    "    return df[df.duplicated()].index.tolist()\n",
    "\n",
    "def check_inconsistencies(df: pd.DataFrame, column: str, valid_values: list) -> pd.Series:\n",
    "    \"\"\"Check for inconsistencies in a specific column.\"\"\"\n",
    "    logging.debug(f\"Checking for inconsistencies in column '{column}'.\")\n",
    "    return df[~df[column].isin(valid_values)][column]\n",
    "\n",
    "def get_inconsistency_indices(df: pd.DataFrame, column: str, valid_values: list) -> list:\n",
    "    \"\"\"Get indices of inconsistent values in a specific column.\"\"\"\n",
    "    return df[~df[column].isin(valid_values)].index.tolist()"
   ]
  },
  {
   "cell_type": "code",
   "execution_count": 3,
   "metadata": {},
   "outputs": [],
   "source": [
    "# Logging configuration\n",
    "logging.basicConfig(filename='data_quality.log', level=logging.DEBUG, format='%(asctime)s - %(levelname)s - %(message)s')\n"
   ]
  },
  {
   "cell_type": "code",
   "execution_count": 4,
   "metadata": {},
   "outputs": [],
   "source": [
    "def log_data_quality_issue(level: str, file_name: str, file_path: str, column_name: str, issue: str, indices: list):\n",
    "    \"\"\"Log a data quality issue with a reference number.\"\"\"\n",
    "    global log_ref_counter\n",
    "    log_ref_counter += 1\n",
    "    indices_str = \", \".join(map(str, indices))\n",
    "    message = f\"Ref: {log_ref_counter}, File: {file_name}, Path: {file_path}, Column: {column_name}, Issue: {issue}, Indices: {indices_str}\"\n",
    "    if level == 'DEBUG':\n",
    "        logging.debug(message)\n",
    "    elif level == 'INFO':\n",
    "        logging.info(message)\n",
    "    elif level == 'WARNING':\n",
    "        logging.warning(message)\n",
    "    elif level == 'ERROR':\n",
    "        logging.error(message)"
   ]
  },
  {
   "cell_type": "code",
   "execution_count": 5,
   "metadata": {},
   "outputs": [],
   "source": [
    "def report_data_quality_issues(df: pd.DataFrame, file_name: str, file_path: str):\n",
    "    \"\"\"Generate a report of data quality issues.\"\"\"\n",
    "    logging.info(\"Starting data quality checks.\")\n",
    "    \n",
    "    total_records = len(df)\n",
    "    \n",
    "    try:\n",
    "        missing_values = check_missing_values(df)\n",
    "        missing_value_indices = get_missing_value_indices(df)\n",
    "        for column, count in missing_values.items():\n",
    "            if count > 0:\n",
    "                passed = total_records - count\n",
    "                indices = missing_value_indices[column]\n",
    "                log_data_quality_issue('INFO', file_name, file_path, column, f\"Missing Values: {count} (Passed: {passed}, Failed: {count})\", indices)\n",
    "            else:\n",
    "                log_data_quality_issue('INFO', file_name, file_path, column, f\"No missing values found. (Passed: {total_records}, Failed: 0)\", [])\n",
    "    except Exception as e:\n",
    "        log_data_quality_issue('ERROR', file_name, file_path, 'All Columns', f\"Error checking missing values: {e}\", [])\n",
    "    \n",
    "    try:\n",
    "        duplicates = check_duplicates(df)\n",
    "        duplicate_indices = get_duplicate_indices(df)\n",
    "        if duplicates > 0:\n",
    "            passed = total_records - duplicates\n",
    "            log_data_quality_issue('INFO', file_name, file_path, 'All Columns', f\"Duplicate Rows: {duplicates} (Passed: {passed}, Failed: {duplicates})\", duplicate_indices)\n",
    "        else:\n",
    "            log_data_quality_issue('INFO', file_name, file_path, 'All Columns', f\"No duplicate rows found. (Passed: {total_records}, Failed: 0)\", [])\n",
    "    except Exception as e:\n",
    "        log_data_quality_issue('ERROR', file_name, file_path, 'All Columns', f\"Error checking duplicates: {e}\", [])\n",
    "    \n",
    "    try:\n",
    "        gender_inconsistencies = check_inconsistencies(df, 'gender', ['M', 'F'])\n",
    "        inconsistency_indices = get_inconsistency_indices(df, 'gender', ['M', 'F'])\n",
    "        if not gender_inconsistencies.empty:\n",
    "            for inconsistency in gender_inconsistencies.unique():\n",
    "                count = (gender_inconsistencies == inconsistency).sum()\n",
    "                passed = total_records - count\n",
    "                indices = inconsistency_indices\n",
    "                log_data_quality_issue('WARNING', file_name, file_path, 'gender', f\"Inconsistent Value: {inconsistency} (Passed: {passed}, Failed: {count})\", indices)\n",
    "        else:\n",
    "            log_data_quality_issue('INFO', file_name, file_path, 'gender', f\"No gender inconsistencies found. (Passed: {total_records}, Failed: 0)\", [])\n",
    "    except Exception as e:\n",
    "        log_data_quality_issue('ERROR', file_name, file_path, 'gender', f\"Error checking gender inconsistencies: {e}\", [])\n",
    "    \n",
    "    logging.info(\"Data quality checks completed.\")"
   ]
  },
  {
   "cell_type": "code",
   "execution_count": 6,
   "metadata": {},
   "outputs": [
    {
     "name": "stdout",
     "output_type": "stream",
     "text": [
      "Data quality issues logged in 'data_quality.log'.\n"
     ]
    }
   ],
   "source": [
    "# Report data quality issues\n",
    "report_data_quality_issues(df, file_name, file_path)\n",
    "\n",
    "print(f\"Data quality issues logged in 'data_quality.log'.\")"
   ]
  },
  {
   "cell_type": "code",
   "execution_count": null,
   "metadata": {},
   "outputs": [],
   "source": []
  }
 ],
 "metadata": {
  "kernelspec": {
   "display_name": "Python 3",
   "language": "python",
   "name": "python3"
  },
  "language_info": {
   "codemirror_mode": {
    "name": "ipython",
    "version": 3
   },
   "file_extension": ".py",
   "mimetype": "text/x-python",
   "name": "python",
   "nbconvert_exporter": "python",
   "pygments_lexer": "ipython3",
   "version": "3.10.13"
  }
 },
 "nbformat": 4,
 "nbformat_minor": 2
}
